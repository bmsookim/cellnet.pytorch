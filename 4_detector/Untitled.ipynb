{
 "cells": [
  {
   "cell_type": "code",
   "execution_count": 6,
   "metadata": {},
   "outputs": [],
   "source": [
    "import cv2\n",
    "import csv\n",
    "import sys\n",
    "import operator\n",
    "import numpy as np\n",
    "import config as cf\n",
    " \n",
    "import torch\n",
    "import torch.nn as nn\n",
    "import torch.backends.cudnn as cudnn\n",
    "import torchvision\n",
    "import matplotlib.pyplot as plt\n",
    " \n",
    "from torchvision import datasets, models, transforms\n",
    "from networks import *\n",
    "from torch.autograd import Variable\n",
    "from PIL import Image\n",
    "%matplotlib inline"
   ]
  },
  {
   "cell_type": "code",
   "execution_count": 49,
   "metadata": {},
   "outputs": [],
   "source": [
    "f = 'Im106_0'\n",
    "\n",
    "original_img_dir = '/home/bumsoo/Data/ALL_IDB1/im/' + f + '.jpg'\n",
    "mask_img_dir = '/home/bumsoo/Github/cellnet.pytorch/4_detector/results/ALL_IDB1/Granulocytes_vs_Mononuclear/masks/' + f + '.png'\n",
    "\n",
    "original_img = cv2.imread(original_img_dir)\n",
    "mask_img = cv2.imread(mask_img_dir)\n",
    "\n",
    "mask_img[mask_img < 150] = 0\n",
    "mask_img = cv2.GaussianBlur(mask_img, (41, 41), 0)\n",
    "ret, threshed_img = cv2.threshold(cv2.cvtColor(mask_img, cv2.COLOR_BGR2GRAY), 100, 255, cv2.THRESH_BINARY)\n",
    "kernel = np.ones((3,3), np.uint8)\n",
    "closing = cv2.morphologyEx(threshed_img, cv2.MORPH_CLOSE, kernel, iterations=20) "
   ]
  },
  {
   "cell_type": "code",
   "execution_count": 50,
   "metadata": {},
   "outputs": [
    {
     "data": {
      "text/plain": [
       "<matplotlib.image.AxesImage at 0x7f9fd4d87320>"
      ]
     },
     "execution_count": 50,
     "metadata": {},
     "output_type": "execute_result"
    },
    {
     "data": {
      "image/png": "[encoded data removed]",
      "text/plain": [
       "<Figure size 432x288 with 1 Axes>"
      ]
     },
     "metadata": {
      "needs_background": "light"
     },
     "output_type": "display_data"
    }
   ],
   "source": [
    "plt.imshow(closing)"
   ]
  },
  {
   "cell_type": "code",
   "execution_count": null,
   "metadata": {},
   "outputs": [],
   "source": []
  }
 ],
 "metadata": {
  "kernelspec": {
   "display_name": "Python 3",
   "language": "python",
   "name": "python3"
  },
  "language_info": {
   "codemirror_mode": {
    "name": "ipython",
    "version": 3
   },
   "file_extension": ".py",
   "mimetype": "text/x-python",
   "name": "python",
   "nbconvert_exporter": "python",
   "pygments_lexer": "ipython3",
   "version": "3.6.6"
  }
 },
 "nbformat": 4,
 "nbformat_minor": 2
}
